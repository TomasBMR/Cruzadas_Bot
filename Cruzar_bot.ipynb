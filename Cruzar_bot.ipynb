{
 "cells": [
  {
   "cell_type": "markdown",
   "id": "6bfe5989",
   "metadata": {},
   "source": [
    "## CruzAR bot\n",
    "Um bot de palavras cruzadas treinado com Aprendizado por Reforço"
   ]
  },
  {
   "cell_type": "code",
   "execution_count": 1,
   "id": "f8715134",
   "metadata": {},
   "outputs": [],
   "source": [
    "import torch\n",
    "import torch.nn as nn\n",
    "import torch.optim as optim\n",
    "\n",
    "from matplotlib import pyplot as plt\n",
    "\n",
    "from Palavras_Cruzadas import Palavras_Cruzadas\n",
    "from Trie import Trie\n",
    "from Gaddag import Gaddag\n",
    "from Cruzadas_Bot_Gaddag import Gaddag_Bot"
   ]
  },
  {
   "cell_type": "code",
   "execution_count": null,
   "id": "c250d95e",
   "metadata": {},
   "outputs": [],
   "source": [
    "class BoardAvaluationFunc(nn.Module):\n",
    "    def __init__(self):\n",
    "        super().__init__()\n",
    "        self.rede = nn.Linear(1, 1)\n",
    "        \n",
    "    def forward(self, x):\n",
    "        x = self.rede(x)\n",
    "        return x"
   ]
  },
  {
   "cell_type": "code",
   "execution_count": null,
   "id": "29518355",
   "metadata": {},
   "outputs": [],
   "source": []
  }
 ],
 "metadata": {
  "kernelspec": {
   "display_name": "Python 3",
   "language": "python",
   "name": "python3"
  },
  "language_info": {
   "codemirror_mode": {
    "name": "ipython",
    "version": 3
   },
   "file_extension": ".py",
   "mimetype": "text/x-python",
   "name": "python",
   "nbconvert_exporter": "python",
   "pygments_lexer": "ipython3",
   "version": "3.12.5"
  }
 },
 "nbformat": 4,
 "nbformat_minor": 5
}
